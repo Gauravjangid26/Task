{
 "cells": [
  {
   "cell_type": "markdown",
   "id": "f051480f",
   "metadata": {},
   "source": [
    "Q1. You are writing code for a company. The requirement of the company is that you create a python\n",
    "function that will check whether the password entered by the user is correct or not. The function should\n",
    "take the password as input and return the string “Valid Password” if the entered password follows the\n",
    "below-given password guidelines else it should return “Invalid Password”.\n",
    "\n",
    "Note:\n",
    "1. The Password should contain at least two uppercase letters and at least two lowercase letters.\n",
    "\n",
    "2. The Password should contain at least a number and three special characters.\n",
    "\n",
    "3. The length of the password should be 10 characters long."
   ]
  },
  {
   "cell_type": "code",
   "execution_count": 1,
   "id": "ba4a56d1",
   "metadata": {},
   "outputs": [],
   "source": [
    "def password_check(password):\n",
    "    SpecialSym =['$', '@', '#', '%']\n",
    "    val = True\n",
    "    if len(password) < 10:\n",
    "        print('length should be at least 10')\n",
    "        val = False\n",
    " \n",
    "    has_digit = 0\n",
    "    has_upper = 0\n",
    "    has_lower = 0\n",
    "    has_sym = 0\n",
    "    for char in password:\n",
    "        if ord(char) >= 48 and ord(char) <= 57:\n",
    "            has_digit+=1\n",
    "    \n",
    "        elif ord(char) >= 65 and ord(char) <= 90:\n",
    "            has_upper+=1\n",
    "            \n",
    "        elif ord(char) >= 97 and ord(char) <= 122:\n",
    "            has_lower+=1\n",
    "            \n",
    "        elif char in SpecialSym:\n",
    "            has_sym +=1\n",
    "            \n",
    "    if has_upper<2:\n",
    "        print('Password should have at least two uppercase letter')\n",
    "        val = False\n",
    "    if has_lower<2:\n",
    "        print('Password should have at least two lowercase letter')\n",
    "        val = False\n",
    "    if has_sym<3:\n",
    "        print('Password should have at least three of the symbols $@#')\n",
    "        val = False\n",
    " \n",
    "    return val    "
   ]
  },
  {
   "cell_type": "code",
   "execution_count": 2,
   "id": "00946bb3",
   "metadata": {},
   "outputs": [
    {
     "name": "stdout",
     "output_type": "stream",
     "text": [
      "Password should have at least two uppercase letter\n",
      "Password should have at least three of the symbols $@#\n"
     ]
    },
    {
     "data": {
      "text/plain": [
       "False"
      ]
     },
     "execution_count": 2,
     "metadata": {},
     "output_type": "execute_result"
    }
   ],
   "source": [
    "password_check(\"Gaura@42121\")"
   ]
  },
  {
   "cell_type": "markdown",
   "id": "e8a5a0d9",
   "metadata": {},
   "source": [
    "Q2. Solve the below-given questions using at least one of the following:\n",
    "\n",
    "1. Lambda function\n",
    "\n",
    "\n",
    "2. Filter function\n",
    "\n",
    "3. map function\n",
    "\n",
    "4. List Comprehension\n",
    "\n",
    "a Check if the string starts with a particular letter\n",
    "\n",
    "b Check if the string is numeric\n",
    "\n",
    "c Sort a list of tuples having fruit names and their quantity. [(\"mango\",99),(\"orange\",80), (\"grapes\", 1000)]\n",
    "\n",
    "d Find the squares of numbers from 1 to 10\n",
    "\n",
    "e Find the cube root of numbers from 1 to 10\n",
    "\n",
    "f Check if a given number is even\n",
    "\n",
    "g Filter odd numbers from the given list.\n",
    "\n",
    "[1,2,3,4,5,6,7,8,9,10]\n",
    "\n",
    "h Sort a list of integers into positive and negative integers lists.\n",
    "\n",
    "[1,2,3,4,5,6,-1,-2,-3,-4,-5,0]"
   ]
  },
  {
   "cell_type": "markdown",
   "id": "a6c8ea4b",
   "metadata": {},
   "source": [
    "Q2. (a)"
   ]
  },
  {
   "cell_type": "code",
   "execution_count": 3,
   "id": "b8db5624",
   "metadata": {},
   "outputs": [],
   "source": [
    "x=lambda x : x[0]==\"A\""
   ]
  },
  {
   "cell_type": "code",
   "execution_count": 4,
   "id": "2f6f3f41",
   "metadata": {},
   "outputs": [
    {
     "name": "stdout",
     "output_type": "stream",
     "text": [
      "True\n"
     ]
    }
   ],
   "source": [
    "print(x(\"Aaurav\"))"
   ]
  },
  {
   "cell_type": "markdown",
   "id": "717e962f",
   "metadata": {},
   "source": [
    "(b)"
   ]
  },
  {
   "cell_type": "code",
   "execution_count": 5,
   "id": "69e431d9",
   "metadata": {},
   "outputs": [],
   "source": [
    "x=lambda x:x.isnumeric()"
   ]
  },
  {
   "cell_type": "code",
   "execution_count": 6,
   "id": "bf36f27b",
   "metadata": {},
   "outputs": [
    {
     "data": {
      "text/plain": [
       "True"
      ]
     },
     "execution_count": 6,
     "metadata": {},
     "output_type": "execute_result"
    }
   ],
   "source": [
    "x(\"12\")"
   ]
  },
  {
   "cell_type": "markdown",
   "id": "a295d1d3",
   "metadata": {},
   "source": [
    "(c)"
   ]
  },
  {
   "cell_type": "code",
   "execution_count": 7,
   "id": "d94fc1d6",
   "metadata": {},
   "outputs": [],
   "source": [
    "list=[(\"mango\",99),(\"orange\",80), (\"grapes\", 1000)]\n"
   ]
  },
  {
   "cell_type": "code",
   "execution_count": 8,
   "id": "a9f3ffc7",
   "metadata": {},
   "outputs": [],
   "source": [
    "def Sort_Tuple(tup):\n",
    "    \n",
    "    return(sorted(tup, key = lambda x: x[1]))\n",
    "    "
   ]
  },
  {
   "cell_type": "code",
   "execution_count": 9,
   "id": "993c3858",
   "metadata": {},
   "outputs": [
    {
     "data": {
      "text/plain": [
       "[('orange', 80), ('mango', 99), ('grapes', 1000)]"
      ]
     },
     "execution_count": 9,
     "metadata": {},
     "output_type": "execute_result"
    }
   ],
   "source": [
    "Sort_Tuple(list)"
   ]
  },
  {
   "cell_type": "markdown",
   "id": "8b7fb2a4",
   "metadata": {},
   "source": [
    "(d)"
   ]
  },
  {
   "cell_type": "code",
   "execution_count": 4,
   "id": "d0358c91",
   "metadata": {},
   "outputs": [],
   "source": [
    "li=list(range(1,11))"
   ]
  },
  {
   "cell_type": "code",
   "execution_count": 9,
   "id": "d3a16bd9",
   "metadata": {},
   "outputs": [],
   "source": [
    "def squares(li):\n",
    "    return list(map(lambda x:x**2,li))"
   ]
  },
  {
   "cell_type": "code",
   "execution_count": 12,
   "id": "173813ed",
   "metadata": {},
   "outputs": [
    {
     "data": {
      "text/plain": [
       "[1, 4, 9, 16, 25, 36, 49, 64, 81, 100]"
      ]
     },
     "execution_count": 12,
     "metadata": {},
     "output_type": "execute_result"
    }
   ],
   "source": [
    "squares(li)"
   ]
  },
  {
   "cell_type": "markdown",
   "id": "cb86f0b2",
   "metadata": {},
   "source": [
    "(e)"
   ]
  },
  {
   "cell_type": "code",
   "execution_count": 14,
   "id": "ed7e60c8",
   "metadata": {},
   "outputs": [
    {
     "data": {
      "text/plain": [
       "[1, 8, 27, 64, 125, 216, 343, 512, 729, 1000]"
      ]
     },
     "execution_count": 14,
     "metadata": {},
     "output_type": "execute_result"
    }
   ],
   "source": [
    "li=list(range(1,11))\n",
    "def squares(li):\n",
    "    return list(map(lambda x:x**3,li))\n",
    "squares(li)"
   ]
  },
  {
   "cell_type": "markdown",
   "id": "1d12ad2a",
   "metadata": {},
   "source": [
    "## (f)"
   ]
  },
  {
   "cell_type": "code",
   "execution_count": 17,
   "id": "c6ee98ad",
   "metadata": {},
   "outputs": [],
   "source": [
    "li=list(range(1,11))\n",
    "def check_even(list:list):\n",
    "    return [i for i in list if i%2==0]"
   ]
  },
  {
   "cell_type": "code",
   "execution_count": 19,
   "id": "b10414b1",
   "metadata": {},
   "outputs": [
    {
     "data": {
      "text/plain": [
       "[2, 4, 6, 8, 10]"
      ]
     },
     "execution_count": 19,
     "metadata": {},
     "output_type": "execute_result"
    }
   ],
   "source": [
    "check_even(li)"
   ]
  },
  {
   "cell_type": "markdown",
   "id": "e69ce851",
   "metadata": {},
   "source": [
    "## (g)"
   ]
  },
  {
   "cell_type": "code",
   "execution_count": 21,
   "id": "16b0b8d3",
   "metadata": {},
   "outputs": [
    {
     "data": {
      "text/plain": [
       "[1, 3, 5, 7, 9]"
      ]
     },
     "execution_count": 21,
     "metadata": {},
     "output_type": "execute_result"
    }
   ],
   "source": [
    "li=list(range(1,11))\n",
    "def check_even(list:list):\n",
    "    return [i for i in list if i%2!=0]\n",
    "check_even(li)"
   ]
  },
  {
   "cell_type": "markdown",
   "id": "3209a58b",
   "metadata": {},
   "source": [
    "## (h)"
   ]
  },
  {
   "cell_type": "code",
   "execution_count": 31,
   "id": "804efbe1",
   "metadata": {},
   "outputs": [
    {
     "data": {
      "text/plain": [
       "[1, 2, 3, 4, 5, 6, -1, -2, -3, -4, -5, 0]"
      ]
     },
     "execution_count": 31,
     "metadata": {},
     "output_type": "execute_result"
    }
   ],
   "source": [
    "li"
   ]
  },
  {
   "cell_type": "code",
   "execution_count": 42,
   "id": "530c6679",
   "metadata": {},
   "outputs": [],
   "source": [
    "def Rearrange(arr):\n",
    "   \n",
    "    arr[:] = [x for x in arr if x < 0] + [x for x in arr if x >= 0]\n",
    "    return arr"
   ]
  },
  {
   "cell_type": "code",
   "execution_count": 43,
   "id": "c8e7a11c",
   "metadata": {},
   "outputs": [
    {
     "data": {
      "text/plain": [
       "[-1, -2, -3, -4, -5, 1, 2, 3, 4, 5, 6, 0]"
      ]
     },
     "execution_count": 43,
     "metadata": {},
     "output_type": "execute_result"
    }
   ],
   "source": [
    "\n",
    "Rearrange(li)"
   ]
  }
 ],
 "metadata": {
  "kernelspec": {
   "display_name": "Python 3 (ipykernel)",
   "language": "python",
   "name": "python3"
  },
  "language_info": {
   "codemirror_mode": {
    "name": "ipython",
    "version": 3
   },
   "file_extension": ".py",
   "mimetype": "text/x-python",
   "name": "python",
   "nbconvert_exporter": "python",
   "pygments_lexer": "ipython3",
   "version": "3.11.1"
  }
 },
 "nbformat": 4,
 "nbformat_minor": 5
}
