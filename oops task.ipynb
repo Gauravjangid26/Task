{
 "cells": [
  {
   "cell_type": "markdown",
   "id": "79f889d3",
   "metadata": {},
   "source": [
    "Q1, Create a vehicle class with an init method having instance variables as name_of_vehicle, max_speed\n",
    "and average_of_vehicle.\n",
    "\n",
    "Q2. Create a child class car from the vehicle class created in Que 1, which will inherit the vehicle class.\n",
    "Create a method named seating_capacity which takes capacity as an argument and returns the name of\n",
    "the vehicle and its seating capacity.\n",
    "\n",
    "Q3. What is multiple inheritance? Write a python code to demonstrate multiple inheritance.\n",
    "\n",
    "Q4. What are getter and setter in python? Create a class and create a getter and a setter method in this\n",
    "class.\n",
    "\n",
    "Q5.What is method overriding in python? Write a python code to demonstrate method overriding."
   ]
  },
  {
   "cell_type": "markdown",
   "id": "b8c78221",
   "metadata": {},
   "source": [
    "# Q1"
   ]
  },
  {
   "cell_type": "code",
   "execution_count": 5,
   "id": "3324fd68",
   "metadata": {},
   "outputs": [],
   "source": [
    "class vehicle:\n",
    "    def __init__(self,name_of_vehicle, max_speed,average_of_vehicle):\n",
    "\n",
    "        self.name_of_vehicle=name_of_vehicle\n",
    "        self.max_speed=max_speed\n",
    "        self.average_of_vehicle=average_of_vehicle"
   ]
  },
  {
   "cell_type": "code",
   "execution_count": 7,
   "id": "c39d275b",
   "metadata": {},
   "outputs": [],
   "source": [
    "v=vehicle(\"maruti suzuki\",60,23)"
   ]
  },
  {
   "cell_type": "code",
   "execution_count": 8,
   "id": "cd576802",
   "metadata": {},
   "outputs": [
    {
     "data": {
      "text/plain": [
       "23"
      ]
     },
     "execution_count": 8,
     "metadata": {},
     "output_type": "execute_result"
    }
   ],
   "source": [
    "v.average_of_vehicle"
   ]
  },
  {
   "cell_type": "markdown",
   "id": "6f5040d4",
   "metadata": {},
   "source": [
    "## Q2"
   ]
  },
  {
   "cell_type": "code",
   "execution_count": 18,
   "id": "83087e04",
   "metadata": {},
   "outputs": [],
   "source": [
    "class car(vehicle):\n",
    "    def seating_capacity(self,capacity):\n",
    "        return self.name_of_vehicle,capacity\n",
    "        "
   ]
  },
  {
   "cell_type": "code",
   "execution_count": 19,
   "id": "353043f0",
   "metadata": {},
   "outputs": [],
   "source": [
    "c=car(\"hundai\",120,24)"
   ]
  },
  {
   "cell_type": "code",
   "execution_count": 20,
   "id": "4b91d2a1",
   "metadata": {},
   "outputs": [
    {
     "data": {
      "text/plain": [
       "('hundai', 4)"
      ]
     },
     "execution_count": 20,
     "metadata": {},
     "output_type": "execute_result"
    }
   ],
   "source": [
    "c.seating_capacity(4)"
   ]
  },
  {
   "cell_type": "markdown",
   "id": "b6865da1",
   "metadata": {},
   "source": [
    "## Q3"
   ]
  },
  {
   "cell_type": "markdown",
   "id": "b4ef9571",
   "metadata": {},
   "source": [
    "a class which inherits multiple parents called multiple inheritance\n"
   ]
  },
  {
   "cell_type": "code",
   "execution_count": 21,
   "id": "3a4cf27b",
   "metadata": {},
   "outputs": [],
   "source": [
    "class a:\n",
    "    pass"
   ]
  },
  {
   "cell_type": "code",
   "execution_count": 22,
   "id": "88c060ed",
   "metadata": {},
   "outputs": [],
   "source": [
    "class b:\n",
    "    pass"
   ]
  },
  {
   "cell_type": "code",
   "execution_count": 23,
   "id": "acbf100a",
   "metadata": {},
   "outputs": [],
   "source": [
    "class c:\n",
    "    pass\n"
   ]
  },
  {
   "cell_type": "code",
   "execution_count": 24,
   "id": "82c4951e",
   "metadata": {},
   "outputs": [],
   "source": [
    "class d(a,b,c):\n",
    "    pass"
   ]
  },
  {
   "cell_type": "markdown",
   "id": "556d7c72",
   "metadata": {},
   "source": [
    "## Q4"
   ]
  },
  {
   "cell_type": "markdown",
   "id": "e7bd5134",
   "metadata": {},
   "source": [
    "GETTER--> when we have to access protected and parivate instance/attributes in a class\n",
    "\n",
    "SETTER--> it is used to modify/update private attributes of class"
   ]
  },
  {
   "cell_type": "code",
   "execution_count": 27,
   "id": "dada4a4e",
   "metadata": {},
   "outputs": [],
   "source": [
    "class Phone:\n",
    "    def __init__(self,company,price):\n",
    "        self.__company=company\n",
    "        self.__price=price\n",
    "\n",
    "    @property    \n",
    "    def view_price(self):\n",
    "        return self.__price\n",
    "    \n",
    "    @view_price.setter\n",
    "    def set_price(self,price):\n",
    "        self.__price=price\n",
    "        return self.__price"
   ]
  },
  {
   "cell_type": "code",
   "execution_count": 29,
   "id": "cfed0f69",
   "metadata": {},
   "outputs": [],
   "source": [
    "p=Phone(\"apple\",60000)"
   ]
  },
  {
   "cell_type": "code",
   "execution_count": 30,
   "id": "430cbeb9",
   "metadata": {},
   "outputs": [
    {
     "data": {
      "text/plain": [
       "60000"
      ]
     },
     "execution_count": 30,
     "metadata": {},
     "output_type": "execute_result"
    }
   ],
   "source": [
    "p.view_price"
   ]
  },
  {
   "cell_type": "code",
   "execution_count": 31,
   "id": "e0cd5a57",
   "metadata": {},
   "outputs": [],
   "source": [
    "p.set_price=5000"
   ]
  },
  {
   "cell_type": "code",
   "execution_count": 32,
   "id": "cb21d16e",
   "metadata": {},
   "outputs": [
    {
     "data": {
      "text/plain": [
       "5000"
      ]
     },
     "execution_count": 32,
     "metadata": {},
     "output_type": "execute_result"
    }
   ],
   "source": [
    "p.view_price"
   ]
  },
  {
   "cell_type": "markdown",
   "id": "bc138c8f",
   "metadata": {},
   "source": [
    "## Q5"
   ]
  },
  {
   "cell_type": "code",
   "execution_count": 34,
   "id": "e038e252",
   "metadata": {},
   "outputs": [],
   "source": [
    "class circle:\n",
    "    def area(self,radii):\n",
    "        return 3.14*radii**2\n",
    "\n",
    "class rect(circle):\n",
    "    def area(self,a,b):\n",
    "        return a*b\n",
    "    "
   ]
  },
  {
   "cell_type": "code",
   "execution_count": 36,
   "id": "1f78f5bb",
   "metadata": {},
   "outputs": [],
   "source": [
    "a=rect()"
   ]
  },
  {
   "cell_type": "code",
   "execution_count": 37,
   "id": "5ab118d4",
   "metadata": {},
   "outputs": [
    {
     "data": {
      "text/plain": [
       "156"
      ]
     },
     "execution_count": 37,
     "metadata": {},
     "output_type": "execute_result"
    }
   ],
   "source": [
    "a.area(12,13)"
   ]
  },
  {
   "cell_type": "code",
   "execution_count": null,
   "id": "3ce8551d",
   "metadata": {},
   "outputs": [],
   "source": []
  }
 ],
 "metadata": {
  "kernelspec": {
   "display_name": "Python 3 (ipykernel)",
   "language": "python",
   "name": "python3"
  },
  "language_info": {
   "codemirror_mode": {
    "name": "ipython",
    "version": 3
   },
   "file_extension": ".py",
   "mimetype": "text/x-python",
   "name": "python",
   "nbconvert_exporter": "python",
   "pygments_lexer": "ipython3",
   "version": "3.11.1"
  }
 },
 "nbformat": 4,
 "nbformat_minor": 5
}
